{
 "nbformat": 4,
 "nbformat_minor": 2,
 "metadata": {
  "language_info": {
   "name": "python",
   "codemirror_mode": {
    "name": "ipython",
    "version": 3
   }
  },
  "orig_nbformat": 2,
  "file_extension": ".py",
  "mimetype": "text/x-python",
  "name": "python",
  "npconvert_exporter": "python",
  "pygments_lexer": "ipython3",
  "version": 3
 },
 "cells": [
  {
   "cell_type": "code",
   "execution_count": 3,
   "metadata": {},
   "outputs": [],
   "source": [
    "import pandas as pd\n"
   ]
  },
  {
   "cell_type": "code",
   "execution_count": 4,
   "metadata": {},
   "outputs": [],
   "source": [
    "data = pd.read_csv('/Users/mattcarroll/Downloads/clinvar_conflicting.csv')"
   ]
  },
  {
   "cell_type": "code",
   "execution_count": 5,
   "metadata": {},
   "outputs": [],
   "source": [
    "y = data['CLASS'] "
   ]
  },
  {
   "cell_type": "code",
   "execution_count": 6,
   "metadata": {},
   "outputs": [
    {
     "data": {
      "text/plain": "0    0\n1    0\n2    1\n3    0\n4    1\nName: CLASS, dtype: int64"
     },
     "execution_count": 6,
     "metadata": {},
     "output_type": "execute_result"
    }
   ],
   "source": [
    "y.head()"
   ]
  },
  {
   "cell_type": "code",
   "execution_count": 10,
   "metadata": {},
   "outputs": [
    {
     "data": {
      "text/plain": "count    65188.000000\nmean         0.252102\nstd          0.434223\nmin          0.000000\n25%          0.000000\n50%          0.000000\n75%          1.000000\nmax          1.000000\nName: CLASS, dtype: float64"
     },
     "execution_count": 10,
     "metadata": {},
     "output_type": "execute_result"
    }
   ],
   "source": [
    "y.describe()"
   ]
  },
  {
   "cell_type": "code",
   "execution_count": 11,
   "metadata": {},
   "outputs": [],
   "source": [
    "from sklearn.model_selection import train_test_split\n"
   ]
  },
  {
   "cell_type": "code",
   "execution_count": 14,
   "metadata": {},
   "outputs": [
    {
     "name": "stdout",
     "output_type": "stream",
     "text": "hi\n"
    }
   ],
   "source": [
    "data_x = data.drop(['CLASS'],axis = 1)\n",
    "data_y = data['CLASS']\n",
    "xTrain, xTest, yTrain, yTest = train_test_split(data_x, data_y, test_size = 0.2, random_state = 56)\n",
    "print('hi')"
   ]
  },
  {
   "cell_type": "code",
   "execution_count": 16,
   "metadata": {},
   "outputs": [
    {
     "data": {
      "text/plain": "CHROM                     0\nPOS                       0\nREF                       0\nALT                       0\nAF_ESP                    0\nAF_EXAC                   0\nAF_TGP                    0\nCLNDISDB                  0\nCLNDISDBINCL          52085\nCLNDN                     0\nCLNDNINCL             52085\nCLNHGVS                   0\nCLNSIGINCL            52085\nCLNVC                     0\nCLNVI                 30005\nMC                     5631\nORIGIN                 4948\nSSR                   52070\nAllele                    0\nConsequence               0\nIMPACT                    0\nSYMBOL                   12\nFeature_type             10\nFeature                  10\nBIOTYPE                  12\nEXON                   7083\nINTRON                45129\ncDNA_position          7076\nCDS_position           7925\nProtein_position       7925\nAmino_acids            7968\nCodons                 7968\nDISTANCE              52070\nSTRAND                   10\nBAM_EDIT              26570\nSIFT                  32243\nPolyPhen              32268\nMOTIF_NAME            52148\nMOTIF_POS             52148\nHIGH_INF_POS          52148\nMOTIF_SCORE_CHANGE    52148\nLoFtool                3366\nCADD_PHRED              878\nCADD_RAW                878\nBLOSUM62              31670\ndtype: int64"
     },
     "execution_count": 16,
     "metadata": {},
     "output_type": "execute_result"
    }
   ],
   "source": [
    "xTrain.isnull().sum()"
   ]
  },
  {
   "cell_type": "code",
   "execution_count": 20,
   "metadata": {},
   "outputs": [
    {
     "data": {
      "text/plain": "CHROM                  object\nPOS                     int64\nREF                    object\nALT                    object\nAF_ESP                float64\nAF_EXAC               float64\nAF_TGP                float64\nCLNDISDB               object\nCLNDISDBINCL           object\nCLNDN                  object\nCLNDNINCL              object\nCLNHGVS                object\nCLNSIGINCL             object\nCLNVC                  object\nCLNVI                  object\nMC                     object\nORIGIN                float64\nSSR                   float64\nAllele                 object\nConsequence            object\nIMPACT                 object\nSYMBOL                 object\nFeature_type           object\nFeature                object\nBIOTYPE                object\nEXON                   object\nINTRON                 object\ncDNA_position          object\nCDS_position           object\nProtein_position       object\nAmino_acids            object\nCodons                 object\nDISTANCE              float64\nSTRAND                float64\nBAM_EDIT               object\nSIFT                   object\nPolyPhen               object\nMOTIF_NAME             object\nMOTIF_POS             float64\nHIGH_INF_POS           object\nMOTIF_SCORE_CHANGE    float64\nLoFtool               float64\nCADD_PHRED            float64\nCADD_RAW              float64\nBLOSUM62              float64\ndtype: object"
     },
     "execution_count": 20,
     "metadata": {},
     "output_type": "execute_result"
    }
   ],
   "source": [
    "xTrain.dtypes"
   ]
  },
  {
   "cell_type": "code",
   "execution_count": 34,
   "metadata": {},
   "outputs": [],
   "source": [
    "xTrain_numerical = xTrain.select_dtypes(exclude = ['object'])"
   ]
  },
  {
   "cell_type": "code",
   "execution_count": 35,
   "metadata": {},
   "outputs": [
    {
     "data": {
      "text/plain": "POS                     int64\nAF_ESP                float64\nAF_EXAC               float64\nAF_TGP                float64\nORIGIN                float64\nSSR                   float64\nDISTANCE              float64\nSTRAND                float64\nMOTIF_POS             float64\nMOTIF_SCORE_CHANGE    float64\nLoFtool               float64\nCADD_PHRED            float64\nCADD_RAW              float64\nBLOSUM62              float64\ndtype: object"
     },
     "execution_count": 35,
     "metadata": {},
     "output_type": "execute_result"
    }
   ],
   "source": [
    "xTrain_numerical.dtypes"
   ]
  },
  {
   "cell_type": "code",
   "execution_count": 36,
   "metadata": {},
   "outputs": [
    {
     "data": {
      "text/plain": "POS                       0\nAF_ESP                    0\nAF_EXAC                   0\nAF_TGP                    0\nORIGIN                 4948\nSSR                   52070\nDISTANCE              52070\nSTRAND                   10\nMOTIF_POS             52148\nMOTIF_SCORE_CHANGE    52148\nLoFtool                3366\nCADD_PHRED              878\nCADD_RAW                878\nBLOSUM62              31670\ndtype: int64"
     },
     "execution_count": 36,
     "metadata": {},
     "output_type": "execute_result"
    }
   ],
   "source": [
    "xTrain_numerical.isnull().sum()"
   ]
  },
  {
   "cell_type": "code",
   "execution_count": 37,
   "metadata": {},
   "outputs": [],
   "source": [
    "cols_missing_values = ['ORIGIN', 'SSR','DISTANCE','STRAND','STRAND','MOTIF_POS','MOTIF_SCORE_CHANGE','LoFtool','CADD_PHRED','CADD_RAW','BLOSUM62']\n",
    "\n",
    "for i in cols_missing_values:\n",
    "    xTrain_numerical[i].fillna(xTrain[i].mean(),inplace = True)"
   ]
  },
  {
   "cell_type": "code",
   "execution_count": 38,
   "metadata": {},
   "outputs": [
    {
     "data": {
      "text/plain": "POS                   0\nAF_ESP                0\nAF_EXAC               0\nAF_TGP                0\nORIGIN                0\nSSR                   0\nDISTANCE              0\nSTRAND                0\nMOTIF_POS             0\nMOTIF_SCORE_CHANGE    0\nLoFtool               0\nCADD_PHRED            0\nCADD_RAW              0\nBLOSUM62              0\ndtype: int64"
     },
     "execution_count": 38,
     "metadata": {},
     "output_type": "execute_result"
    }
   ],
   "source": [
    "xTrain_numerical.isnull().sum()\n"
   ]
  },
  {
   "cell_type": "code",
   "execution_count": null,
   "metadata": {},
   "outputs": [],
   "source": []
  }
 ]
}